{
 "cells": [
  {
   "cell_type": "code",
   "execution_count": 6,
   "metadata": {},
   "outputs": [],
   "source": [
    "import re\n",
    "x = open(\"/home/julian/data/russia/Snezhnaya/SnezhnayaAndrej.TH\").read()"
   ]
  },
  {
   "cell_type": "code",
   "execution_count": 8,
   "metadata": {
    "collapsed": true
   },
   "outputs": [],
   "source": []
  },
  {
   "cell_type": "code",
   "execution_count": 7,
   "metadata": {
    "collapsed": true
   },
   "outputs": [],
   "source": [
    "def singlesurvey(sname, content):\n",
    "    svxcontent = [ ]\n",
    "    if sname != '_null':\n",
    "        svxcontent.append(\"*begin %s\" % sname)\n",
    "    for fline in content.split(\"\\n\"):\n",
    "        wds = fline.split()\n",
    "        if wds[0] in [\"extend\", \"vthreshold\", \"declination\"]:\n",
    "            pass\n",
    "        elif wds[0] in [\"flags\", \"date\", \"units\"]:\n",
    "            svxcontent.append(\"*\"+\" \".join(wds))\n",
    "        elif wds[0] in [\"data\"]:\n",
    "            svxcontent.append(\"*\"+\" \".join(wds[:7]))\n",
    "        else:\n",
    "            svxcontent.append(\" \".join(wds[:5]).replace(\"'\", \"_\").replace(\"*\", \"__\"))\n",
    "    if sname != '_null':\n",
    "        svxcontent.append(\"*end %s\" % sname)\n",
    "    return svxcontent\n",
    "\n",
    "    "
   ]
  },
  {
   "cell_type": "code",
   "execution_count": 63,
   "metadata": {},
   "outputs": [
    {
     "name": "stdout",
     "output_type": "stream",
     "text": [
      "[('TABLICHKA', '20111025_vhodn_vl', '43.2647500', '40.7181900', '1980.00'), ('SV0', '20111025_vhodn_vl', '43.2648100', '40.7184200', '1970.00'), ('BANKA', '20111025_vhodn_vl', '43.2545000', '40.6936100', '1473.00'), ('ILLUZ', '20111025_vhodn_vl', '43.2795600', '40.7138100', '2389.00'), ('MEZHEN', '20111025_vhodn_vl', '43.2740800', '40.7087900', '2015.00'), ('P01', '20121203_vhod', '43.2646550', '40.7181600', '1990.00')]\n"
     ]
    }
   ],
   "source": [
    "allfixes = re.findall(\"fix (\\S*?)@(\\S*?)\\s+(\\S+)\\s+(\\S+)\\s+(\\S+)\", x)\n",
    "print(allfixes)"
   ]
  },
  {
   "cell_type": "code",
   "execution_count": 110,
   "metadata": {},
   "outputs": [
    {
     "name": "stdout",
     "output_type": "stream",
     "text": [
      "20121203_vhod. P01\n"
     ]
    }
   ],
   "source": [
    "allsurveys = re.findall(\"survey (.*)\\ncenterline\\n([\\s\\S]*?)\\nendcenterline\\nendsurvey (.*)\\n\", x)\n",
    "allequates = re.findall(\"equate (\\S*?)@(\\S*?) (\\S*?)@(\\S*)\\n\", x)\n",
    "allfixes = re.findall(\"fix (\\S*?)@(\\S*?)\\s+(\\S+)\\s+(\\S+)\\s+(\\S+)\", x)\n",
    "\n",
    "svxcontent = [ \"*cs long-lat\", \"*cs out UTM37N\"]\n",
    "highestfix = max(allfixes, key=lambda X: float(X[4]))\n",
    "lng0, lat0, alt0 = float(highestfix[3]), float(highestfix[2]), float(highestfix[4])\n",
    "ent0 = False\n",
    "svxcontent.append(\"*declination auto %s %s %s\" % (lng0, lat0, alt0))\n",
    "\n",
    "for st1, s1, lat, long, z in allfixes:\n",
    "    if s1 != \"_null\":\n",
    "        s1 = s1+\".\"\n",
    "    else:\n",
    "        s1 = \"\"\n",
    "    svxcontent.append(\"*fix %s%s %s %s %s\" % (s1, st1, long, lat, z))\n",
    "    if \"P01\" in st1:\n",
    "        svxcontent.append(\"*entrance %s%s\" % (s1, st1))\n",
    "        if not ent0 or float(z) > float(alt0):\n",
    "            lng0, lat0, alt0 = float(long), float(lat), float(z)\n",
    "        print(s1, st1)\n",
    "\n",
    "svxcontent.append(\"*begin cardinalpoints\")\n",
    "svxcontent.append(\"*flags surface\")\n",
    "svxcontent.append(\"*fix landmark_north reference %s %s %s\" % (lng0, lat0+0.1, alt0))\n",
    "svxcontent.append(\"*fix landmark_south reference %s %s %s\" % (lng0, lat0-0.1, alt0))\n",
    "svxcontent.append(\"*fix landmark_east reference %s %s %s\" % (lng0+0.1, lat0, alt0))\n",
    "svxcontent.append(\"*fix landmark_west reference %s %s %s\" % (lng0-0.1, lat0, alt0))\n",
    "svxcontent.append(\"*end cardinalpoints\")\n",
    "        \n",
    "svxcontent.append(\"\")\n",
    "svxcontent.append(\"\")\n",
    "\n",
    "for sname, content, endsname in allsurveys:\n",
    "    #print(sname, endsname)\n",
    "    assert sname == endsname\n",
    "    svxcontent.extend(singlesurvey(sname, content))\n",
    "    svxcontent.append(\"\")\n",
    "    svxcontent.append(\"\")\n",
    "\n",
    "for st1, s1, st2, s2 in allequates:\n",
    "    if s1 != \"_null\":\n",
    "        s1 = s1+\".\"\n",
    "    else:\n",
    "        s1 = \"\"\n",
    "    if s2 != \"_null\":\n",
    "        s2 = s2+\".\"\n",
    "    else:\n",
    "        s2 = \"\"\n",
    "    svxcontent.append(\"*equate %s%s %s%s\" % (s1, st1, s2, st2))\n",
    "    \n",
    "    "
   ]
  },
  {
   "cell_type": "code",
   "execution_count": 111,
   "metadata": {
    "collapsed": true
   },
   "outputs": [],
   "source": [
    "svxname = \"/home/julian/data/russia/snezhnaya.svx\"\n",
    "fout = open(svxname, \"w\")\n",
    "fout.write(\"\\n\".join(svxcontent))\n",
    "fout.close()"
   ]
  },
  {
   "cell_type": "code",
   "execution_count": 112,
   "metadata": {},
   "outputs": [],
   "source": [
    "import subprocess\n",
    "f3dname = \"/home/julian/data/russia/snezhnaya.3d\"\n",
    "y = subprocess.run([\"cavern\", svxname, \"--output=\"+f3dname], stdout=subprocess.PIPE, stderr=subprocess.PIPE)"
   ]
  },
  {
   "cell_type": "code",
   "execution_count": 96,
   "metadata": {},
   "outputs": [
    {
     "data": {
      "text/plain": [
       "b'Survex 1.2.30\\nCopyright \\xc2\\xa9 1990-2016 Olly Betts\\n/home/julian/data/russia/snezhnaya.svx:30:13: warning: Suspicious compass reading\\n TRZ86 TRZ85 -135.00 -4.00 4.80\\n             ^~~~~~~\\n/home/julian/data/russia/snezhnaya.svx:30: warning: No survey date specified - using 0 for magnetic declination\\n TRZ86 TRZ85 -135.00 -4.00 4.80\\n/home/julian/data/russia/snezhnaya.svx:70:13: warning: Suspicious compass reading\\n DN31X DN30X -75.00 12.00 9.60\\n             ^~~~~~\\n/home/julian/data/russia/snezhnaya.svx:71:13: warning: Suspicious compass reading\\n DN32X DN31X -88.00 25.00 12.90\\n             ^~~~~~\\n/home/julian/data/russia/snezhnaya.svx:72:13: warning: Suspicious compass reading\\n DN33X DN32X -50.00 -18.00 12.87\\n             ^~~~~~\\n/home/julian/data/russia/snezhnaya.svx:73:13: warning: Suspicious compass reading\\n DN34X DN33X -35.00 -27.00 13.40\\n             ^~~~~~\\n/home/julian/data/russia/snezhnaya.svx:74:13: warning: Suspicious compass reading\\n DN35X DN34X -80.00 6.00 14.10\\n             ^~~~~~\\n/home/julian/data/russia/snezhnaya.svx:75:13: warning: Suspicious compass reading\\n DN36X DN35X -103.00 28.00 12.75\\n             ^~~~~~~\\n/home/julian/data/russia/snezhnaya.svx:77:13: warning: Suspicious compass reading\\n DN38X DN37X -111.00 24.00 12.85\\n             ^~~~~~~\\n/home/julian/data/russia/snezhnaya.svx:78:13: warning: Suspicious compass reading\\n DN39X DN38X -78.00 -8.00 14.80\\n             ^~~~~~\\n/home/julian/data/russia/snezhnaya.svx:79:13: warning: Suspicious compass reading\\n DN40X DN39X -92.00 -13.00 12.20\\n             ^~~~~~\\n/home/julian/data/russia/snezhnaya.svx:80:13: warning: Suspicious compass reading\\n DN41X DN40X -114.00 -8.00 14.05\\n             ^~~~~~~\\n/home/julian/data/russia/snezhnaya.svx:81:13: warning: Suspicious compass reading\\n DN42X DN41X -56.00 -47.00 6.30\\n             ^~~~~~\\n/home/julian/data/russia/snezhnaya.svx:82:13: warning: Suspicious compass reading\\n DN43X DN42X -71.00 -16.00 13.10\\n             ^~~~~~\\n/home/julian/data/russia/snezhnaya.svx:83:13: warning: Suspicious compass reading\\n DN44X DN43X -105.00 -34.00 15.60\\n             ^~~~~~~\\n/home/julian/data/russia/snezhnaya.svx:84:13: warning: Suspicious compass reading\\n DN45X DN44X -90.00 -6.00 12.80\\n             ^~~~~~\\n/home/julian/data/russia/snezhnaya.svx:85:13: warning: Suspicious compass reading\\n DN46X DN45X -143.00 -8.00 13.30\\n             ^~~~~~~\\n/home/julian/data/russia/snezhnaya.svx:88:13: warning: Suspicious compass reading\\n DN49X DN48X -138.00 -35.00 11.90\\n             ^~~~~~~\\n/home/julian/data/russia/snezhnaya.svx:89:13: warning: Suspicious compass reading\\n DN50X DN49X -160.00 -17.00 13.20\\n             ^~~~~~~\\n/home/julian/data/russia/snezhnaya.svx:94:13: warning: Suspicious compass reading\\n DN55X DN54X -23.00 0.00 15.40\\n             ^~~~~~\\n/home/julian/data/russia/snezhnaya.svx:99:13: warning: Suspicious compass reading\\n DN60X DN59X -166.00 -3.00 10.00\\n             ^~~~~~~\\n/home/julian/data/russia/snezhnaya.svx:100:13: warning: Suspicious compass reading\\n DN61X DN60X -178.00 -23.00 7.70\\n             ^~~~~~~\\n/home/julian/data/russia/snezhnaya.svx:111:13: warning: Suspicious compass reading\\n TRM0 TRN131 -180.00 0.00 0.01\\n             ^~~~~~~\\n/home/julian/data/russia/snezhnaya.svx:126:15: warning: Suspicious compass reading\\n TRN116 TRN115 -35.00 -17.10 16.72\\n               ^~~~~~\\n/home/julian/data/russia/snezhnaya.svx:127:15: warning: Suspicious compass reading\\n TRN117 TRN116 -43.00 -20.00 39.52\\n               ^~~~~~\\n/home/julian/data/russia/snezhnaya.svx:128:15: warning: Suspicious compass reading\\n TRN118 TRN117 -60.00 6.60 39.13\\n               ^~~~~~\\n/home/julian/data/russia/snezhnaya.svx:129:15: warning: Suspicious compass reading\\n TRN119 TRN118 -59.00 9.90 43.76\\n               ^~~~~~\\n/home/julian/data/russia/snezhnaya.svx:130:15: warning: Suspicious compass reading\\n TRN120 TRN119 -87.00 -6.00 32.68\\n               ^~~~~~\\n/home/julian/data/russia/snezhnaya.svx:131:15: warning: Suspicious compass reading\\n TRN121 TRN120 -99.50 -4.10 13.95\\n               ^~~~~~\\n/home/julian/data/russia/snezhnaya.svx:132:15: warning: Suspicious compass reading\\n TRN122 TRN121 -79.00 8.50 22.19\\n               ^~~~~~\\n/home/julian/data/russia/snezhnaya.svx:133:15: warning: Suspicious compass reading\\n TRN123 TRN122 -88.00 -23.10 21.42\\n               ^~~~~~\\n/home/julian/data/russia/snezhnaya.svx:134:15: warning: Suspicious compass reading\\n TRN124 TRN123 -59.00 -31.00 11.66\\n               ^~~~~~\\n/home/julian/data/russia/snezhnaya.svx:135:15: warning: Suspicious compass reading\\n TRN125 TRN124 -97.00 -19.50 22.70\\n               ^~~~~~\\n/home/julian/data/russia/snezhnaya.svx:136:15: warning: Suspicious compass reading\\n TRN126 TRN125 -39.00 -41.00 6.72\\n               ^~~~~~\\n/home/julian/data/russia/snezhnaya.svx:137:15: warning: Suspicious compass reading\\n TRN127 TRN126 -92.50 21.50 14.52\\n               ^~~~~~\\n/home/julian/data/russia/snezhnaya.svx:138:15: warning: Suspicious compass reading\\n TRN128 TRN127 -67.00 22.30 14.45\\n               ^~~~~~\\n/home/julian/data/russia/snezhnaya.svx:139:15: warning: Suspicious compass reading\\n TRN129 TRN128 -121.50 39.70 11.28\\n               ^~~~~~~\\n/home/julian/data/russia/snezhnaya.svx:140:15: warning: Suspicious compass reading\\n TRN130 TRN129 -96.50 24.60 12.58\\n               ^~~~~~\\n/home/julian/data/russia/snezhnaya.svx:204:9: warning: Suspicious compass reading\\n NR4 NR1 -76.00 0.00 16.70\\n         ^~~~~~\\n/home/julian/data/russia/snezhnaya.svx:205:9: warning: Suspicious compass reading\\n NR5 NR4 -72.00 10.00 17.10\\n         ^~~~~~\\n/home/julian/data/russia/snezhnaya.svx:206:9: warning: Suspicious compass reading\\n NR6 NR5 -86.00 -14.00 29.50\\n         ^~~~~~\\n/home/julian/data/russia/snezhnaya.svx:207:9: warning: Suspicious compass reading\\n NR7 NR6 -67.00 11.00 27.00\\n         ^~~~~~\\n/home/julian/data/russia/snezhnaya.svx:208:9: warning: Suspicious compass reading\\n NR8 NR7 -117.00 -6.00 12.50\\n         ^~~~~~~\\n/home/julian/data/russia/snezhnaya.svx:209:9: warning: Suspicious compass reading\\n NR9 NR8 -70.00 34.00 20.00\\n         ^~~~~~\\n/home/julian/data/russia/snezhnaya.svx:211:11: warning: Suspicious compass reading\\n NR11 NR10 -53.00 30.00 30.00\\n           ^~~~~~\\n/home/julian/data/russia/snezhnaya.svx:212:11: warning: Suspicious compass reading\\n NR12 NR11 -63.00 27.00 9.30\\n           ^~~~~~\\n/home/julian/data/russia/snezhnaya.svx:213:11: warning: Suspicious compass reading\\n NR13 NR12 -94.00 32.00 27.80\\n           ^~~~~~\\n/home/julian/data/russia/snezhnaya.svx:228:11: warning: Suspicious compass reading\\n NR14 NR13 -145.00 30.00 9.20\\n           ^~~~~~~\\n/home/julian/data/russia/snezhnaya.svx:229:11: warning: Suspicious compass reading\\n NR15 NR14 -80.00 0.00 27.30\\n           ^~~~~~\\n/home/julian/data/russia/snezhnaya.svx:230:11: warning: Suspicious compass reading\\n NR16 NR15 -50.00 2.00 7.30\\n           ^~~~~~\\n/home/julian/data/russia/snezhnaya.svx:231:11: warning: Suspicious compass reading\\n NR17 NR16 -60.00 0.00 18.40\\n           ^~~~~~\\n/home/julian/data/russia/snezhnaya.svx:232:11: warning: Suspicious compass reading\\n NR18 NR17 -77.00 -10.00 13.40\\n           ^~~~~~\\n/home/julian/data/russia/snezhnaya.svx:233:11: warning: Suspicious compass reading\\n NR19 NR18 -77.00 5.00 24.30\\n           ^~~~~~\\n/home/julian/data/russia/snezhnaya.svx:234:11: warning: Suspicious compass reading\\n NR20 NR19 -77.00 0.00 12.00\\n           ^~~~~~\\n/home/julian/data/russia/snezhnaya.svx:236:11: warning: Suspicious compass reading\\n NR22 NR21 -11.00 0.00 12.60\\n           ^~~~~~\\n/home/julian/data/russia/snezhnaya.svx:237:11: warning: Suspicious compass reading\\n NR23 NR22 -75.00 0.00 22.20\\n           ^~~~~~\\n/home/julian/data/russia/snezhnaya.svx:238:11: warning: Suspicious compass reading\\n NR24 NR23 -75.00 0.00 8.80\\n           ^~~~~~\\n/home/julian/data/russia/snezhnaya.svx:239:11: warning: Suspicious compass reading\\n NR25 NR24 -102.00 0.00 11.60\\n           ^~~~~~~\\n/home/julian/data/russia/snezhnaya.svx:240:11: warning: Suspicious compass reading\\n NR26 NR25 -20.00 0.00 19.50\\n           ^~~~~~\\n/home/julian/data/russia/snezhnaya.svx:241:11: warning: Suspicious compass reading\\n NR27 NR26 -56.00 0.00 25.00\\n           ^~~~~~\\n/home/julian/data/russia/snezhnaya.svx:242:11: warning: Suspicious compass reading\\n NR28 NR27 -80.00 0.00 17.00\\n           ^~~~~~\\n/home/julian/data/russia/snezhnaya.svx:244:11: warning: Suspicious compass reading\\n NR30 NR29 -24.00 -7.00 12.00\\n           ^~~~~~\\n/home/julian/data/russia/snezhnaya.svx:245:11: warning: Suspicious compass reading\\n NR31 NR30 -30.00 22.00 4.50\\n           ^~~~~~\\n/home/julian/data/russia/snezhnaya.svx:249:11: warning: Suspicious compass reading\\n NR35 NR31 -75.00 0.00 22.00\\n           ^~~~~~\\n/home/julian/data/russia/snezhnaya.svx:250:11: warning: Suspicious compass reading\\n NR36 NR35 -74.00 0.00 25.00\\n           ^~~~~~\\n/home/julian/data/russia/snezhnaya.svx:251:11: warning: Suspicious compass reading\\n NR37 NR36 -75.00 0.00 23.40\\n           ^~~~~~\\n/home/julian/data/russia/snezhnaya.svx:256:11: warning: Suspicious compass reading\\n NR40 NR37 -116.00 0.00 20.00\\n           ^~~~~~~\\n/home/julian/data/russia/snezhnaya.svx:257:11: warning: Suspicious compass reading\\n NR44 NR40 -45.00 0.00 23.00\\n           ^~~~~~\\n/home/julian/data/russia/snezhnaya.svx:267:14: warning: Suspicious compass reading\\n TRN1103 NR0A -180.00 0.00 0.01\\n              ^~~~~~~\\n/home/julian/data/russia/snezhnaya.svx:280:13: warning: Suspicious compass reading\\n DN14Y DN13Y -17.00 -36.90 1.43\\n             ^~~~~~\\n/home/julian/data/russia/snezhnaya.svx:283:13: warning: Suspicious compass reading\\n DN17Y DN16Y -70.00 27.70 3.71\\n             ^~~~~~\\n/home/julian/data/russia/snezhnaya.svx:284:13: warning: Suspicious compass reading\\n DN18Y DN17Y -145.00 10.80 4.45\\n             ^~~~~~~\\n/home/julian/data/russia/snezhnaya.svx:285:13: warning: Suspicious compass reading\\n DN19Y DN18Y -60.00 49.20 0.87\\n             ^~~~~~\\n/home/julian/data/russia/snezhnaya.svx:286:13: warning: Suspicious compass reading\\n DN20Y DN19Y -74.00 60.80 8.81\\n             ^~~~~~\\n/home/julian/data/russia/snezhnaya.svx:288:13: warning: Suspicious compass reading\\n SO610 DN20Y -180.00 0.00 0.10\\n             ^~~~~~~\\n/home/julian/data/russia/snezhnaya.svx:315:11: warning: Suspicious compass reading\\n TRM3 TRM2 -89.00 44.00 3.90\\n           ^~~~~~\\n/home/julian/data/russia/snezhnaya.svx:316:11: warning: Suspicious compass reading\\n TRM4 TRM3 -149.00 47.00 6.80\\n           ^~~~~~~\\n/home/julian/data/russia/snezhnaya.svx:317:11: warning: Suspicious compass reading\\n TRM5 TRM4 -77.00 31.00 14.10\\n           ^~~~~~\\n/home/julian/data/russia/snezhnaya.svx:318:11: warning: Suspicious compass reading\\n TRM6 TRM5 -6.00 -16.00 7.10\\n           ^~~~~\\n/home/julian/data/russia/snezhnaya.svx:319:11: warning: Suspicious compass reading\\n TRM7 TRM6 -21.00 6.00 4.60\\n           ^~~~~~\\n/home/julian/data/russia/snezhnaya.svx:321:11: warning: Suspicious compass reading\\n TRM9 TRM8 -45.00 73.00 1.80\\n           ^~~~~~\\n/home/julian/data/russia/snezhnaya.svx:322:12: warning: Suspicious compass reading\\n TRM10 TRM9 -100.00 46.00 2.00\\n            ^~~~~~~\\n/home/julian/data/russia/snezhnaya.svx:323:13: warning: Suspicious compass reading\\n TRM11 TRM10 -8.00 28.00 2.10\\n             ^~~~~\\n/home/julian/data/russia/snezhnaya.svx:324:13: warning: Suspicious compass reading\\n TRM12 TRM11 -78.00 58.00 4.60\\n             ^~~~~~\\n/home/julian/data/russia/snezhnaya.svx:325:13: warning: Suspicious compass reading\\n TRM13 TRM12 -91.00 57.00 5.40\\n             ^~~~~~\\n/home/julian/data/russia/snezhnaya.svx:326:13: warning: Suspicious compass reading\\n TRM14 TRM13 -103.00 19.00 6.00\\n             ^~~~~~~\\n/home/julian/data/russia/snezhnaya.svx:327:13: warning: Suspicious compass reading\\n TRM15 TRM14 -38.00 -9.00 4.70\\n             ^~~~~~\\n/home/julian/data/russia/snezhnaya.svx:328:13: warning: Suspicious compass reading\\n TRM16 TRM15 -86.00 -23.00 12.20\\n             ^~~~~~\\n/home/julian/data/russia/snezhnaya.svx:329:13: warning: Suspicious compass reading\\n TRM17 TRM16 -95.00 -27.00 3.80\\n             ^~~~~~\\n/home/julian/data/russia/snezhnaya.svx:330:13: warning: Suspicious compass reading\\n TRM18 TRM17 -102.00 -11.00 8.70\\n             ^~~~~~~\\n/home/julian/data/russia/snezhnaya.svx:333:13: warning: Suspicious compass reading\\n TRM20 TRM19 -98.00 -52.00 10.90\\n             ^~~~~~\\n/home/julian/data/russia/snezhnaya.svx:334:13: warning: Suspicious compass reading\\n TRM21 TRM20 -73.00 -57.00 5.50\\n             ^~~~~~\\n/home/julian/data/russia/snezhnaya.svx:335:13: warning: Suspicious compass reading\\n TRM22 TRM21 -65.00 -9.00 2.70\\n             ^~~~~~\\n/home/julian/data/russia/snezhnaya.svx:336:13: warning: Suspicious compass reading\\n TRM23 TRM22 -110.00 -19.00 2.60\\n             ^~~~~~~\\n/home/julian/data/russia/snezhnaya.svx:337:13: warning: Suspicious compass reading\\n TRM24 TRM23 -11.00 1.00 3.60\\n             ^~~~~~\\n/home/julian/data/russia/snezhnaya.svx:347:13: warning: Suspicious compass reading\\n TRM34 TRM33 -52.00 -26.00 2.00\\n             ^~~~~~\\n/home/julian/data/russia/snezhnaya.svx:348:13: warning: Suspicious compass reading\\n TRM35 TRM34 -52.00 -79.00 2.40\\n             ^~~~~~\\n/home/julian/data/russia/snezhnaya.svx:349:13: warning: Suspicious compass reading\\n TRM36 TRM35 -82.00 -31.00 3.10\\n             ^~~~~~\\n/home/julian/data/russia/snezhnaya.svx:350:13: warning: Suspicious compass reading\\n TRM37 TRM36 -4.00 -3.00 2.00\\n             ^~~~~\\n/home/julian/data/russia/snezhnaya.svx:352:13: warning: Suspicious compass reading\\n TRM39 TRM38 -122.00 -43.00 6.00\\n             ^~~~~~~\\n/home/julian/data/russia/snezhnaya.svx:353:13: warning: Suspicious compass reading\\n TRM40 TRM39 -119.00 -39.00 3.40\\n             ^~~~~~~\\n/home/julian/data/russia/snezhnaya.svx:354:13: warning: Suspicious compass reading\\n TRM41 TRM40 -38.00 -19.00 11.50\\n             ^~~~~~\\n/home/julian/data/russia/snezhnaya.svx:355:13: warning: Suspicious compass reading\\n TRM42 TRM41 -170.00 -11.00 16.90\\n             ^~~~~~~\\n/home/julian/data/russia/snezhnaya.svx:356:13: warning: Suspicious compass reading\\n TRM43 TRM42 -116.00 -16.00 10.70\\n             ^~~~~~~\\n/home/julian/data/russia/snezhnaya.svx:357:13: warning: Suspicious compass reading\\n TRM44 TRM43 -97.00 -6.00 10.40\\n             ^~~~~~\\n/home/julian/data/russia/snezhnaya.svx:358:13: warning: Suspicious compass reading\\n TRM45 TRM44 -169.00 0.00 8.30\\n             ^~~~~~~\\n/home/julian/data/russia/snezhnaya.svx:359:13: warning: Suspicious compass reading\\n TRM46 TRM45 -99.00 -22.00 19.20\\n             ^~~~~~\\n/home/julian/data/russia/snezhnaya.svx:360:13: warning: Suspicious compass reading\\n TRM47 TRM46 -143.00 -2.00 4.10\\n             ^~~~~~~\\n/home/julian/data/russia/snezhnaya.svx:361:13: warning: Suspicious compass reading\\n TRM48 TRM47 -19.00 -42.00 2.70\\n             ^~~~~~\\n/home/julian/data/russia/snezhnaya.svx:362:13: warning: Suspicious compass reading\\n TRM49 TRM48 -105.00 -52.00 3.30\\n             ^~~~~~~\\n/home/julian/data/russia/snezhnaya.svx:363:13: warning: Suspicious compass reading\\n TRM50 TRM49 -85.00 -29.00 4.30\\n             ^~~~~~\\n/home/julian/data/russia/snezhnaya.svx:364:13: warning: Suspicious compass reading\\n TRM51 TRM50 -119.00 -38.00 3.80\\n             ^~~~~~~\\n/home/julian/data/russia/snezhnaya.svx:365:13: warning: Suspicious compass reading\\n TRM52 TRM51 -46.00 -46.00 6.40\\n             ^~~~~~\\n/home/julian/data/russia/snezhnaya.svx:366:13: warning: Suspicious compass reading\\n TRM53 TRM52 -114.00 -9.00 5.30\\n             ^~~~~~~\\n/home/julian/data/russia/snezhnaya.svx:367:13: warning: Suspicious compass reading\\n TRM54 TRM53 -126.00 41.00 6.70\\n             ^~~~~~~\\n/home/julian/data/russia/snezhnaya.svx:372:13: warning: Suspicious compass reading\\n TRM59 TRM58 -149.00 26.00 4.10\\n             ^~~~~~~\\n/home/julian/data/russia/snezhnaya.svx:384:10: warning: Suspicious compass reading\\n ME0 ME59 -124.00 5.00 16.49\\n          ^~~~~~~\\n/home/julian/data/russia/snezhnaya.svx:386:9: warning: Suspicious compass reading\\n ME2 ME1 -32.00 12.00 9.34\\n         ^~~~~~\\n/home/julian/data/russia/snezhnaya.svx:390:9: warning: Suspicious compass reading\\n ME6 ME5 -135.00 0.00 16.39\\n         ^~~~~~~\\n/home/julian/data/russia/snezhnaya.svx:393:9: warning: Suspicious compass reading\\n ME9 ME8 -40.00 6.00 1.20\\n         ^~~~~~\\n/home/julian/data/russia/snezhnaya.svx:394:10: warning: Suspicious compass reading\\n ME10 ME9 -180.00 70.00 2.89\\n          ^~~~~~~\\n/home/julian/data/russia/snezhnaya.svx:397:11: warning: Suspicious compass reading\\n ME13 ME12 -180.00 90.00 8.85\\n           ^~~~~~~\\n/home/julian/data/russia/snezhnaya.svx:403:11: warning: Suspicious compass reading\\n ME19 ME18 -132.00 42.00 2.37\\n           ^~~~~~~\\n/home/julian/data/russia/snezhnaya.svx:404:11: warning: Suspicious compass reading\\n ME20 ME19 -180.00 69.00 4.68\\n           ^~~~~~~\\n/home/julian/data/russia/snezhnaya.svx:405:11: warning: Suspicious compass reading\\n ME21 ME20 -145.00 0.00 2.86\\n           ^~~~~~~\\n/home/julian/data/russia/snezhnaya.svx:406:11: warning: Suspicious compass reading\\n ME22 ME21 -123.00 -4.00 2.00\\n           ^~~~~~~\\n/home/julian/data/russia/snezhnaya.svx:407:11: warning: Suspicious compass reading\\n ME23 ME22 -100.00 78.00 2.82\\n           ^~~~~~~\\n/home/julian/data/russia/snezhnaya.svx:408:11: warning: Suspicious compass reading\\n ME24 ME23 -100.00 49.00 1.68\\n           ^~~~~~~\\n/home/julian/data/russia/snezhnaya.svx:412:11: warning: Suspicious compass reading\\n ME28 ME27 -178.00 40.00 14.03\\n           ^~~~~~~\\n/home/julian/data/russia/snezhnaya.svx:414:11: warning: Suspicious compass reading\\n ME30 ME29 -180.00 15.00 7.40\\n           ^~~~~~~\\n/home/julian/data/russia/snezhnaya.svx:415:11: warning: Suspicious compass reading\\n ME31 ME30 -76.00 11.00 7.80\\n           ^~~~~~\\n/home/julian/data/russia/snezhnaya.svx:498:13: warning: Suspicious compass reading\\n ZKM28 ZKM27 -16.00 7.00 32.73\\n             ^~~~~~\\n/home/julian/data/russia/snezhnaya.svx:500:13: warning: Suspicious compass reading\\n ZKM30 ZKM29 -31.00 41.00 10.92\\n             ^~~~~~\\n/home/julian/data/russia/snezhnaya.svx:501:13: warning: Suspicious compass reading\\n ZKM31 ZKM30 -74.00 31.00 15.63\\n             ^~~~~~\\n/home/julian/data/russia/snezhnaya.svx:502:13: warning: Suspicious compass reading\\n ZKM16 ZKM31 -63.00 28.00 18.76\\n             ^~~~~~\\n/home/julian/data/russia/snezhnaya.svx:521:9: warning: Suspicious compass reading\\n PN9 PN8 -27.00 2.00 10.70\\n         ^~~~~~\\n/home/julian/data/russia/snezhnaya.svx:522:10: warning: Suspicious compass reading\\n PN10 PN9 -92.00 -4.00 14.60\\n          ^~~~~~\\n/home/julian/data/russia/snezhnaya.svx:547:12: warning: Suspicious compass reading\\n ZKM22 ZU16 -180.00 0.00 0.01\\n            ^~~~~~~\\n/home/julian/data/russia/snezhnaya.svx:558:11: warning: Suspicious compass reading\\n ZURA ZU10 -30.00 10.00 9.30\\n           ^~~~~~\\n/home/julian/data/russia/snezhnaya.svx:563:11: warning: Suspicious compass reading\\n ZU16 ZU15 -120.00 -25.00 14.50\\n           ^~~~~~~\\n/home/julian/data/russia/snezhnaya.svx:568:9: warning: Suspicious compass reading\\n UM5 UM4 -1.00 40.00 5.00\\n         ^~~~~\\n/home/julian/data/russia/snezhnaya.svx:582:12: warning: Suspicious compass reading\\n DN1Z DN61X -91.50 11.30 44.90\\n            ^~~~~~\\n/home/julian/data/russia/snezhnaya.svx:651:11: warning: Suspicious compass reading\\n PG38 PG36 -89.00 -15.00 17.80\\n           ^~~~~~\\n/home/julian/data/russia/snezhnaya.svx:652:11: warning: Suspicious compass reading\\n PG39 PG38 -110.00 -32.00 8.60\\n           ^~~~~~~\\n/home/julian/data/russia/snezhnaya.svx:653:11: warning: Suspicious compass reading\\n PG40 PG39 -128.00 -8.00 9.60\\n           ^~~~~~~\\n/home/julian/data/russia/snezhnaya.svx:654:11: warning: Suspicious compass reading\\n PG41 PG40 -108.00 8.00 32.60\\n           ^~~~~~~\\n/home/julian/data/russia/snezhnaya.svx:680:11: warning: Suspicious compass reading\\n SCO5 SCO3 -180.00 -90.00 2.30\\n           ^~~~~~~\\n/home/julian/data/russia/snezhnaya.svx:685:12: warning: Suspicious compass reading\\n SCO10 SCO9 -29.00 -57.00 3.40\\n            ^~~~~~\\n/home/julian/data/russia/snezhnaya.svx:686:13: warning: Suspicious compass reading\\n SCO11 SCO10 -24.00 -24.00 2.60\\n             ^~~~~~\\n/home/julian/data/russia/snezhnaya.svx:687:13: warning: Suspicious compass reading\\n SCO12 SCO11 -73.00 -34.00 2.50\\n             ^~~~~~\\n/home/julian/data/russia/snezhnaya.svx:688:13: warning: Suspicious compass reading\\n SCO13 SCO12 -164.00 -32.00 4.20\\n             ^~~~~~~\\n/home/julian/data/russia/snezhnaya.svx:692:13: warning: Suspicious compass reading\\n SCO17 SCO16 -180.00 90.00 1.30\\n             ^~~~~~~\\n/home/julian/data/russia/snezhnaya.svx:693:13: warning: Suspicious compass reading\\n SCO18 SCO17 -120.00 20.00 5.30\\n             ^~~~~~~\\n/home/julian/data/russia/snezhnaya.svx:694:13: warning: Suspicious compass reading\\n SCO19 SCO18 -85.00 -13.00 3.50\\n             ^~~~~~\\n/home/julian/data/russia/snezhnaya.svx:695:13: warning: Suspicious compass reading\\n SCO20 SCO19 -68.00 -52.00 6.50\\n             ^~~~~~\\n/home/julian/data/russia/snezhnaya.svx:696:13: warning: Suspicious compass reading\\n SCO21 SCO20 -134.00 -42.00 2.70\\n             ^~~~~~~\\n/home/julian/data/russia/snezhnaya.svx:697:13: warning: Suspicious compass reading\\n SCO22 SCO21 -31.00 -55.00 1.40\\n             ^~~~~~\\n/home/julian/data/russia/snezhnaya.svx:698:13: warning: Suspicious compass reading\\n SCO23 SCO22 -170.00 0.00 0.90\\n             ^~~~~~~\\n/home/julian/data/russia/snezhnaya.svx:724:9: warning: Suspicious compass reading\\n PZ6 PZ4 -35.00 -10.00 2.90\\n         ^~~~~~\\n/home/julian/data/russia/snezhnaya.svx:794:11: warning: Suspicious compass reading\\n TRM0 OCH0 -180.00 0.00 0.01\\n           ^~~~~~~\\n/home/julian/data/russia/snezhnaya.svx:855:9: warning: Suspicious compass reading\\n VL1 VL0 -150.00 23.00 16.96\\n         ^~~~~~~\\n/home/julian/data/russia/snezhnaya.svx:856:9: warning: Suspicious compass reading\\n VL2 VL1 -28.00 49.00 29.60\\n         ^~~~~~\\n/home/julian/data/russia/snezhnaya.svx:857:9: warning: Suspicious compass reading\\n VL3 VL2 -63.00 72.00 16.40\\n         ^~~~~~\\n/home/julian/data/russia/snezhnaya.svx:862:9: warning: Suspicious compass reading\\n P02 VL4 -180.00 0.00 0.00\\n         ^~~~~~~\\n/home/julian/data/russia/snezhnaya.svx:1887:13: warning: Suspicious compass reading\\n SO601 SO600 -151.00 -38.00 13.32\\n             ^~~~~~~\\n/home/julian/data/russia/snezhnaya.svx:1888:13: warning: Suspicious compass reading\\n SO602 SO601 -93.00 4.00 35.96\\n             ^~~~~~\\n/home/julian/data/russia/snezhnaya.svx:1889:13: warning: Suspicious compass reading\\n SO603 SO602 -136.00 -28.00 10.67\\n             ^~~~~~~\\n/home/julian/data/russia/snezhnaya.svx:1890:13: warning: Suspicious compass reading\\n SO604 SO603 -113.00 -11.00 40.35\\n             ^~~~~~~\\n/home/julian/data/russia/snezhnaya.svx:1892:13: warning: Suspicious compass reading\\n SO606 SO605 -100.00 -1.00 22.67\\n             ^~~~~~~\\n/home/julian/data/russia/snezhnaya.svx:1893:13: warning: Suspicious compass reading\\n SO607 SO606 -62.00 -10.00 4.25\\n             ^~~~~~\\n/home/julian/data/russia/snezhnaya.svx:1894:13: warning: Suspicious compass reading\\n SO608 SO607 -39.00 -81.00 6.68\\n             ^~~~~~\\n/home/julian/data/russia/snezhnaya.svx:1896:13: warning: Suspicious compass reading\\n SO610 SO609 -122.00 -19.00 6.99\\n             ^~~~~~~\\n/home/julian/data/russia/snezhnaya.svx:1900:13: warning: Suspicious compass reading\\n SO614 SO613 -120.00 -51.00 3.05\\n             ^~~~~~~\\n/home/julian/data/russia/snezhnaya.svx:1901:13: warning: Suspicious compass reading\\n SO615 SO614 -151.00 20.00 2.93\\n             ^~~~~~~\\n/home/julian/data/russia/snezhnaya.svx:1902:13: warning: Suspicious compass reading\\n SO616 SO615 -98.00 -25.00 4.92\\n             ^~~~~~\\n/home/julian/data/russia/snezhnaya.svx:1903:13: warning: Suspicious compass reading\\n SO617 SO616 -113.00 9.00 19.25\\n             ^~~~~~~\\n/home/julian/data/russia/snezhnaya.svx:1904:13: warning: Suspicious compass reading\\n SO618 SO617 -80.00 1.00 40.89\\n             ^~~~~~\\n/home/julian/data/russia/snezhnaya.svx:1905:13: warning: Suspicious compass reading\\n SO619 SO618 -76.00 8.00 53.96\\n             ^~~~~~\\n/home/julian/data/russia/snezhnaya.svx:1906:13: warning: Suspicious compass reading\\n SO620 SO619 -115.00 4.00 35.29\\n             ^~~~~~~\\n/home/julian/data/russia/snezhnaya.svx:1907:13: warning: Suspicious compass reading\\n SO621 SO620 -165.00 -28.00 44.69\\n             ^~~~~~~\\n/home/julian/data/russia/snezhnaya.svx:1909:13: warning: Suspicious compass reading\\n SO623 SO622 -163.00 -69.00 4.13\\n             ^~~~~~~\\n/home/julian/data/russia/snezhnaya.svx:1920:13: warning: Suspicious compass reading\\n SO634 SO633 -11.00 -73.00 5.66\\n             ^~~~~~\\n/home/julian/data/russia/snezhnaya.svx:1929:13: warning: Suspicious compass reading\\n SO643 SO642 -154.00 -19.00 4.06\\n             ^~~~~~~\\n/home/julian/data/russia/snezhnaya.svx:1932:13: warning: Suspicious compass reading\\n SO646 SO645 -124.00 50.00 6.87\\n             ^~~~~~~\\n/home/julian/data/russia/snezhnaya.svx:1934:13: warning: Suspicious compass reading\\n SO648 SO647 -147.00 10.00 10.15\\n             ^~~~~~~\\n/home/julian/data/russia/snezhnaya.svx:1937:13: warning: Suspicious compass reading\\n SO651 SO650 -165.00 -9.00 12.65\\n             ^~~~~~~\\n/home/julian/data/russia/snezhnaya.svx:1939:13: warning: Suspicious compass reading\\n SO653 SO652 -135.00 -38.00 9.57\\n             ^~~~~~~\\n/home/julian/data/russia/snezhnaya.svx:1940:13: warning: Suspicious compass reading\\n SO654 SO653 -168.00 -43.00 3.20\\n             ^~~~~~~\\n/home/julian/data/russia/snezhnaya.svx:1944:13: warning: Suspicious compass reading\\n SO658 SO657 -169.00 -13.00 7.31\\n             ^~~~~~~\\n/home/julian/data/russia/snezhnaya.svx:2031:13: warning: Suspicious compass reading\\n SO812 SO811 -109.00 4.00 24.55\\n             ^~~~~~~\\n/home/julian/data/russia/snezhnaya.svx:2032:13: warning: Suspicious compass reading\\n SO813 SO812 -161.00 13.00 8.26\\n             ^~~~~~~\\n/home/julian/data/russia/snezhnaya.svx:2033:13: warning: Suspicious compass reading\\n SO600 SO813 -70.00 21.00 6.28\\n             ^~~~~~\\n/home/julian/data/russia/snezhnaya.svx:2048:8: warning: Suspicious compass reading\\n P01 Z4 -2.00 -18.00 34.73\\n        ^~~~~\\n/home/julian/data/russia/snezhnaya.svx:2074:11: warning: Suspicious compass reading\\n UZ19 UZ18 -44.00 35.00 6.21\\n           ^~~~~~\\n/home/julian/data/russia/snezhnaya.svx:2075:11: warning: Suspicious compass reading\\n VL93 UZ19 -180.00 0.00 0.01\\n           ^~~~~~~\\n/home/julian/data/russia/snezhnaya.svx:2227:12: warning: Suspicious compass reading\\n RPR36 YK23 -180.00 0.00 0.01\\n            ^~~~~~~\\n/home/julian/data/russia/snezhnaya.svx:2228:11: warning: Suspicious compass reading\\n Z338 YK19 -180.00 0.00 0.01\\n           ^~~~~~~\\n/home/julian/data/russia/snezhnaya.svx:2265:9: warning: Suspicious compass reading\\n YK6 YK5 -64.00 -41.50 4.80\\n         ^~~~~~\\n/home/julian/data/russia/snezhnaya.svx:2275:9: warning: Suspicious compass reading\\n YK7 YK6 -70.00 -34.80 5.50\\n         ^~~~~~\\n/home/julian/data/russia/snezhnaya.svx:2284:9: warning: Suspicious compass reading\\n YK8 YK7 -50.00 -1.00 5.10\\n         ^~~~~~\\n/home/julian/data/russia/snezhnaya.svx:2325:10: warning: Suspicious compass reading\\n YK13 YK8 -48.00 15.00 3.80\\n          ^~~~~~\\n/home/julian/data/russia/snezhnaya.svx:2326:11: warning: Suspicious compass reading\\n YK14 YK13 -60.00 -14.00 5.40\\n           ^~~~~~\\n/home/julian/data/russia/snezhnaya.svx:2334:11: warning: Suspicious compass reading\\n YK15 YK14 -54.00 -18.40 6.20\\n           ^~~~~~\\n/home/julian/data/russia/snezhnaya.svx:2341:11: warning: Suspicious compass reading\\n YK16 YK15 -45.00 -55.30 2.90\\n           ^~~~~~\\n/home/julian/data/russia/snezhnaya.svx:2348:11: warning: Suspicious compass reading\\n YK17 YK16 -77.00 -12.20 4.00\\n           ^~~~~~\\n/home/julian/data/russia/snezhnaya.svx:2355:11: warning: Suspicious compass reading\\n YK18 YK17 -117.00 -40.00 4.00\\n           ^~~~~~~\\n/home/julian/data/russia/snezhnaya.svx:2362:11: warning: Suspicious compass reading\\n YK19 YK18 -76.00 -28.00 2.80\\n           ^~~~~~\\n/home/julian/data/russia/snezhnaya.svx:2473:11: warning: Suspicious compass reading\\n YK36 YK35 -137.00 -76.00 1.30\\n           ^~~~~~~\\n/home/julian/data/russia/snezhnaya.svx:2480:11: warning: Suspicious compass reading\\n YK37 YK36 -153.00 13.60 3.46\\n           ^~~~~~~\\n/home/julian/data/russia/snezhnaya.svx:2562:11: warning: Suspicious compass reading\\n YK49 YK48 -60.00 37.00 2.30\\n           ^~~~~~\\n/home/julian/data/russia/snezhnaya.svx:2564:11: warning: Suspicious compass reading\\n YK51 YK50 -34.00 -27.80 2.40\\n           ^~~~~~\\n/home/julian/data/russia/snezhnaya.svx:2925:12: warning: Suspicious compass reading\\n YK105 TRZ5 -180.00 0.00 0.01\\n            ^~~~~~~\\n/home/julian/data/russia/snezhnaya.svx:3191:13: warning: Suspicious compass reading\\n TRZ51 TRZ50 -175.00 -12.40 2.00\\n             ^~~~~~~\\n/home/julian/data/russia/snezhnaya.svx:3196:13: warning: Suspicious compass reading\\n TRZ52 TRZ51 -166.00 -8.40 11.00\\n             ^~~~~~~\\n/home/julian/data/russia/snezhnaya.svx:3201:13: warning: Suspicious compass reading\\n TRZ53 TRZ52 -168.00 -4.70 35.80\\n             ^~~~~~~\\n/home/julian/data/russia/snezhnaya.svx:3213:13: warning: Suspicious compass reading\\n TRZ55 TRZ54 -9.00 -13.70 3.90\\n             ^~~~~\\n/home/julian/data/russia/snezhnaya.svx:3657:13: warning: Suspicious compass reading\\n TRZ58 TRZ57 -7.00 5.40 11.43\\n             ^~~~~\\n/home/julian/data/russia/snezhnaya.svx:3675:13: warning: Suspicious compass reading\\n TRZ61 TRZ60 -168.00 -12.50 23.36\\n             ^~~~~~~\\n/home/julian/data/russia/snezhnaya.svx:3681:13: warning: Suspicious compass reading\\n TRZ62 TRZ61 -142.00 -14.90 12.57\\n             ^~~~~~~\\n/home/julian/data/russia/snezhnaya.svx:3686:13: warning: Suspicious compass reading\\n TRZ63 TRZ62 -174.00 -3.50 13.13\\n             ^~~~~~~\\n/home/julian/data/russia/snezhnaya.svx:3711:13: warning: Suspicious compass reading\\n TRZ67 TRZ66 -12.00 -12.10 22.50\\n             ^~~~~~\\n/home/julian/data/russia/snezhnaya.svx:3734:13: warning: Suspicious compass reading\\n TRZ71 TRZ70 -146.00 -9.70 23.80\\n             ^~~~~~~\\n/home/julian/data/russia/snezhnaya.svx:3742:13: warning: Suspicious compass reading\\n TRZ72 TRZ71 -174.00 0.00 25.00\\n             ^~~~~~~\\n/home/julian/data/russia/snezhnaya.svx:3779:13: warning: Suspicious compass reading\\n TRZ78 TRZ77 -151.00 -3.70 5.40\\n             ^~~~~~~\\n/home/julian/data/russia/snezhnaya.svx:3786:13: warning: Suspicious compass reading\\n TRZ79 TRZ78 -156.00 -8.70 30.90\\n             ^~~~~~~\\n/home/julian/data/russia/snezhnaya.svx:3825:13: warning: Suspicious compass reading\\n TRZ85 TRZ84 -136.00 -2.70 13.87\\n             ^~~~~~~\\n/home/julian/data/russia/snezhnaya.svx:3841:15: warning: Suspicious compass reading\\n TRN114 TRZD14 -180.00 0.00 0.01\\n               ^~~~~~~\\n/home/julian/data/russia/snezhnaya.svx:4049:13: warning: Suspicious compass reading\\n KPN31 KPN30 -43.00 -37.30 1.98\\n             ^~~~~~\\n/home/julian/data/russia/snezhnaya.svx:4062:13: warning: Suspicious compass reading\\n KPN33 KPN32 -121.00 -41.50 4.49\\n             ^~~~~~~\\n/home/julian/data/russia/snezhnaya.svx:4070:13: warning: Suspicious compass reading\\n KPN34 KPN33 -118.00 10.50 2.50\\n             ^~~~~~~\\n/home/julian/data/russia/snezhnaya.svx:4083:13: warning: Suspicious compass reading\\n KPN36 KPN35 -60.00 -69.50 3.14\\n             ^~~~~~\\n/home/julian/data/russia/snezhnaya.svx:4104:13: warning: Suspicious compass reading\\n KPN39 KPN38 -14.00 -73.00 2.28\\n             ^~~~~~\\n/home/julian/data/russia/snezhnaya.svx:4134:13: warning: Suspicious compass reading\\n KPN43 KPN42 -136.00 -12.50 5.69\\n             ^~~~~~~\\n/home/julian/data/russia/snezhnaya.svx:4142:13: warning: Suspicious compass reading\\n KPN44 KPN43 -142.00 -6.90 5.90\\n             ^~~~~~~\\n/home/julian/data/russia/snezhnaya.svx:4186:13: warning: Suspicious compass reading\\n KPN48 KPN49 -84.00 52.80 10.43\\n             ^~~~~~\\n/home/julian/data/russia/snezhnaya.svx:4252:12: warning: Suspicious compass reading\\n SG53 KPN44 -166.00 16.00 4.23\\n            ^~~~~~~\\n/home/julian/data/russia/snezhnaya.svx:4253:11: warning: Suspicious compass reading\\n SG54 SG53 -148.00 11.90 2.39\\n           ^~~~~~~\\n/home/julian/data/russia/snezhnaya.svx:4262:11: warning: Suspicious compass reading\\n SG55 SG54 -140.00 41.20 5.34\\n           ^~~~~~~\\n/home/julian/data/russia/snezhnaya.svx:4269:11: warning: Suspicious compass reading\\n SG56 SG55 -107.00 58.80 1.82\\n           ^~~~~~~\\n/home/julian/data/russia/snezhnaya.svx:4276:11: warning: Suspicious compass reading\\n SG57 SG56 -83.00 14.00 2.13\\n           ^~~~~~\\n/home/julian/data/russia/snezhnaya.svx:4283:11: warning: Suspicious compass reading\\n SG58 SG57 -125.00 47.90 2.56\\n           ^~~~~~~\\n/home/julian/data/russia/snezhnaya.svx:4291:11: warning: Suspicious compass reading\\n SG59 SG58 -108.50 16.70 6.87\\n           ^~~~~~~\\n/home/julian/data/russia/snezhnaya.svx:4299:11: warning: Suspicious compass reading\\n SG60 SG59 -104.00 28.90 8.74\\n           ^~~~~~~\\n/home/julian/data/russia/snezhnaya.svx:4309:11: warning: Suspicious compass reading\\n SG61 SG60 -104.00 34.80 6.81\\n           ^~~~~~~\\n/home/julian/data/russia/snezhnaya.svx:4318:12: warning: Suspicious compass reading\\n SG62_ SG61 -170.00 40.80 4.86\\n            ^~~~~~~\\n/home/julian/data/russia/snezhnaya.svx:4326:12: warning: Suspicious compass reading\\n SG63 SG62_ -140.00 35.50 5.72\\n            ^~~~~~~\\n/home/julian/data/russia/snezhnaya.svx:4651:13: warning: Suspicious compass reading\\n SGB16 SGB17 -82.00 73.50 9.45\\n             ^~~~~~\\n/home/julian/data/russia/snezhnaya.svx:4667:13: warning: Suspicious compass reading\\n SGB18 SGB19 -83.20 71.70 1.81\\n             ^~~~~~\\n/home/julian/data/russia/snezhnaya.svx:4674:13: warning: Suspicious compass reading\\n SGB19 SGB20 -25.00 45.00 1.69\\n             ^~~~~~\\n/home/julian/data/russia/snezhnaya.svx:4687:13: warning: Suspicious compass reading\\n SGB20 SGB21 -140.80 15.00 1.75\\n             ^~~~~~~\\n/home/julian/data/russia/snezhnaya.svx:4704:13: warning: Suspicious compass reading\\n SGB22 SGB23 -54.50 12.40 4.68\\n             ^~~~~~\\n/home/julian/data/russia/snezhnaya.svx:4761:13: warning: Suspicious compass reading\\n SGB26 SGB27 -29.00 -10.40 6.65\\n             ^~~~~~\\n/home/julian/data/russia/snezhnaya.svx:4795:13: warning: Suspicious compass reading\\n SGB29 SGB30 -57.90 11.00 6.74\\n             ^~~~~~\\n/home/julian/data/russia/snezhnaya.svx:4809:12: warning: Suspicious compass reading\\n SG70 SGB30 -180.00 0.00 0.10\\n            ^~~~~~~\\n/home/julian/data/russia/snezhnaya.svx:4846:13: warning: Suspicious compass reading\\n SGB32 SGB33 -41.50 70.60 1.79\\n             ^~~~~~\\n/home/julian/data/russia/snezhnaya.svx:4859:13: warning: Suspicious compass reading\\n SGB33 SGB34 -95.90 83.10 2.53\\n             ^~~~~~\\n/home/julian/data/russia/snezhnaya.svx:4871:13: warning: Suspicious compass reading\\n SGB34 SGB35 -93.90 16.60 2.08\\n             ^~~~~~\\n/home/julian/data/russia/snezhnaya.svx:4889:13: warning: Suspicious compass reading\\n SGB35 SGB36 -25.40 78.00 3.29\\n             ^~~~~~\\n/home/julian/data/russia/snezhnaya.svx:4932:13: warning: Suspicious compass reading\\n SGB40 SGB41 -27.50 12.80 6.60\\n             ^~~~~~\\n/home/julian/data/russia/snezhnaya.svx:4943:13: warning: Suspicious compass reading\\n SGB41 SGB42 -130.80 -16.30 5.54\\n             ^~~~~~~\\n/home/julian/data/russia/snezhnaya.svx:4954:13: warning: Suspicious compass reading\\n SGB42 SGB43 -110.50 -24.30 2.41\\n             ^~~~~~~\\n/home/julian/data/russia/snezhnaya.svx:4982:13: warning: Suspicious compass reading\\n SGB45 SGB46 -14.90 35.80 7.45\\n             ^~~~~~\\n/home/julian/data/russia/snezhnaya.svx:4994:13: warning: Suspicious compass reading\\n SGB46 SGB47 -2.00 17.00 7.18\\n             ^~~~~\\n/home/julian/data/russia/snezhnaya.svx:5021:13: warning: Suspicious compass reading\\n SGB47 SGB49 -113.70 -23.90 5.87\\n             ^~~~~~~\\n/home/julian/data/russia/snezhnaya.svx:5034:13: warning: Suspicious compass reading\\n SGB49 SGB50 -114.60 -71.50 2.99\\n             ^~~~~~~\\n/home/julian/data/russia/snezhnaya.svx:5084:13: warning: Suspicious compass reading\\n SGB53 SGB54 -24.30 -81.10 16.07\\n             ^~~~~~\\n/home/julian/data/russia/snezhnaya.svx:5099:13: warning: Suspicious compass reading\\n SGB54 SGB55 -115.90 -74.80 6.90\\n             ^~~~~~~\\n\\nRemoving trailing traverses...\\n\\nConcatenating traverses...\\n\\nSimplifying network...\\n\\nSolving 12 simultaneous equations...\\n\\nCalculating network...\\n\\nCalculating traverses...\\n\\nCalculating trailing traverses...\\n\\nCalculating statistics...\\n\\nSurvey contains 3991 survey stations, joined by 4005 legs.\\nThere are 24 loops.\\nSurvey has 10 connected components.\\nTotal length of survey legs = 17117.13m (17122.04m adjusted)\\nTotal plan length of survey legs = 14792.18m\\nTotal vertical length of survey legs = 5831.75m\\nVertical range = 1793.60m (from 20111025_vhodn_vl.ilz01 at 2389.00m to 20160118_ozero_morozova.om6 at 595.40m)\\nNorth-South range = 3418.95m (from 20111025_vhodn_vl.ilz01 at 4793286.69m to 20170110_ozero_morozova2.om42 at 4789867.75m)\\nEast-West range = 3460.40m (from 20120102_osn_hod.so215 at 639845.93m to 20100118_zal_kozmos.zkm29 at 636385.53m)\\n   4 0-nodes.\\n2082 1-nodes.\\n1443 2-nodes.\\n  70 3-nodes.\\n  60 4-nodes.\\n  48 5-nodes.\\n 145 6-nodes.\\n  54 7-nodes.\\n  33 8-nodes.\\n   9 9-nodes.\\n   4 10-nodes.\\n   5 11-nodes.\\n   7 12-nodes.\\n   2 13-nodes.\\n   5 14-nodes.\\n   2 15-nodes.\\n   3 16-nodes.\\n   3 17-nodes.\\n   2 18-nodes.\\n   1 20-node.\\n   1 27-node.\\n   1 30-node.\\n   1 32-node.\\n   2 33-nodes.\\n   2 34-nodes.\\n   2 38-nodes.\\nCPU time used  0.11s\\nThere were 267 warning(s).\\n'"
      ]
     },
     "execution_count": 96,
     "metadata": {},
     "output_type": "execute_result"
    }
   ],
   "source": [
    "y.stdout\n",
    "#svxname = \"/home/julian/repositories/groundwindow/test.svx\""
   ]
  },
  {
   "cell_type": "code",
   "execution_count": 114,
   "metadata": {},
   "outputs": [
    {
     "data": {
      "text/plain": [
       "CompletedProcess(args=['aven', '/home/julian/data/russia/snezhnaya.3d'], returncode=0)"
      ]
     },
     "execution_count": 114,
     "metadata": {},
     "output_type": "execute_result"
    }
   ],
   "source": [
    "subprocess.run([\"aven\", f3dname])\n"
   ]
  },
  {
   "cell_type": "code",
   "execution_count": 115,
   "metadata": {},
   "outputs": [],
   "source": [
    "fjsname = \"/home/julian/repositories/groundwindow/caves/snezhnaya.js\"\n",
    "y = subprocess.run([\"python\", \"../pypothole/parse3ddmp.py\", \"--3d=\"+f3dname, \"--js=\"+fjsname], \n",
    "                   stdout=subprocess.PIPE)\n",
    "\n",
    "\n"
   ]
  },
  {
   "cell_type": "code",
   "execution_count": 98,
   "metadata": {},
   "outputs": [
    {
     "name": "stdout",
     "output_type": "stream",
     "text": [
      "\n"
     ]
    }
   ],
   "source": [
    "print(y.stdout.decode())"
   ]
  },
  {
   "cell_type": "code",
   "execution_count": null,
   "metadata": {},
   "outputs": [],
   "source": []
  },
  {
   "cell_type": "code",
   "execution_count": 77,
   "metadata": {},
   "outputs": [
    {
     "data": {
      "text/plain": [
       "111319.49079327358"
      ]
     },
     "execution_count": 77,
     "metadata": {},
     "output_type": "execute_result"
    }
   ],
   "source": [
    "import math\n",
    "earthrad = 6378137; \n",
    "nyfac = 2*math.pi*earthrad/360; \n",
    "nyfac\n"
   ]
  },
  {
   "cell_type": "code",
   "execution_count": 81,
   "metadata": {},
   "outputs": [
    {
     "data": {
      "text/plain": [
       "111319.49079327378"
      ]
     },
     "execution_count": 81,
     "metadata": {},
     "output_type": "execute_result"
    }
   ],
   "source": [
    "proj(41.713810, 43.279560)[0] - proj(40.713810, 43.279560)[0]\n",
    "#proj(40.713810, 44.279560)[1] - proj(40.713810, 43.279560)[1]\n",
    "\n",
    "\n"
   ]
  },
  {
   "cell_type": "code",
   "execution_count": null,
   "metadata": {
    "collapsed": true
   },
   "outputs": [],
   "source": []
  }
 ],
 "metadata": {
  "kernelspec": {
   "display_name": "Python 3",
   "language": "python",
   "name": "python3"
  },
  "language_info": {
   "codemirror_mode": {
    "name": "ipython",
    "version": 3
   },
   "file_extension": ".py",
   "mimetype": "text/x-python",
   "name": "python",
   "nbconvert_exporter": "python",
   "pygments_lexer": "ipython3",
   "version": "3.6.1"
  }
 },
 "nbformat": 4,
 "nbformat_minor": 2
}
